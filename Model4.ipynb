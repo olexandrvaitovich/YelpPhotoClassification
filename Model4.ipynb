{
 "cells": [
  {
   "cell_type": "code",
   "execution_count": null,
   "metadata": {},
   "outputs": [],
   "source": [
    "import numpy as np\n",
    "import pandas as pd\n",
    "from keras.applications.resnet50 import ResNet50, decode_predictions\n",
    "from keras.layers import Input, Dense, Dropout, Flatten\n",
    "from keras.models import Model\n",
    "from keras.preprocessing.image import image\n",
    "from tqdm import tqdm\n",
    "import h5py\n",
    "from helper_functions import get_filenames, get_batches\n",
    "from generators import pred_generator_model4\n",
    "from sklearn.preprocessing import MultiLabelBinarizer\n",
    "from sklearn.multiclass import OneVsRestClassifier\n",
    "from sklearn.neural_network import MLPClassifier\n",
    "from sklearn.metrics import f1_score\n",
    "from sklearn.base import clone\n",
    "from IPython.display import clear_output\n",
    "import config"
   ]
  },
  {
   "cell_type": "code",
   "execution_count": null,
   "metadata": {},
   "outputs": [],
   "source": [
    "#Dirs with photos\n",
    "TRAIN_DIR = config.TRAIN_DIR\n",
    "#TEST_DIR = \"D:/test_photos/\"\n",
    "\n",
    "#CSV files with photos ids and corresponding business ids \n",
    "#test_photo_to_biz = pd.read_csv(\"D:/test_photo_to_biz.csv\")\n",
    "train_photo_to_biz = config.train_photo_to_biz\n",
    "\n",
    "#CSV file with labels corresponding to business\n",
    "labels = config.labels\n",
    "lbs_pd = config.labels"
   ]
  },
  {
   "cell_type": "code",
   "execution_count": null,
   "metadata": {},
   "outputs": [],
   "source": [
    "batches, lbs = get_batches(train_photo_to_biz, lbs_pd)"
   ]
  },
  {
   "cell_type": "code",
   "execution_count": null,
   "metadata": {},
   "outputs": [],
   "source": [
    "#Using pretrained model\n",
    "ResNet_model = ResNet50(weights='imagenet', include_top = True)\n",
    "\n",
    "filenames = get_filenames(TRAIN_DIR)\n",
    "businesses = []\n",
    "gen = pred_generator_model4(filenames, businesses, train_photo_to_biz)"
   ]
  },
  {
   "cell_type": "code",
   "execution_count": null,
   "metadata": {},
   "outputs": [],
   "source": [
    "preds = []\n",
    "for i in tqdm(range(117421)):\n",
    "    preds.append(ResNet_model.predict(next(gen), batch_size=2))"
   ]
  },
  {
   "cell_type": "code",
   "execution_count": null,
   "metadata": {},
   "outputs": [],
   "source": [
    "file = h5py.File(\"model4_output.h5\", \"w\")\n",
    "file.create_dataset(\"labels\", data=np.array(preds))\n",
    "file.create_dataset(\"businesses\", data=np.array(businesses))\n",
    "file.close()"
   ]
  },
  {
   "cell_type": "code",
   "execution_count": null,
   "metadata": {},
   "outputs": [],
   "source": [
    "file = h5py.File(\"model4_output.h5\", \"r\")\n",
    "businesses = file[\"businesses\"][:]\n",
    "imagenet_labels = file[\"labels\"][:]\n",
    "file.close()"
   ]
  },
  {
   "cell_type": "code",
   "execution_count": null,
   "metadata": {},
   "outputs": [],
   "source": [
    "lbs = imagenet_labels.reshape(234842, 1000)\n",
    "decoded = decode_predictions(lbs)\n",
    "statistic_dict = {}"
   ]
  },
  {
   "cell_type": "code",
   "execution_count": null,
   "metadata": {},
   "outputs": [],
   "source": [
    "for i in range(len(decoded)):\n",
    "    for j in range(len(decoded[i])):\n",
    "        if decoded[i][j][1] in statistic_dict:\n",
    "            statistic_dict[decoded[i][j][1]] += np.array([1.,decoded[i][j][2]])\n",
    "        else:\n",
    "            statistic_dict[decoded[i][j][1]] = np.array([1.,decoded[i][j][2]])"
   ]
  },
  {
   "cell_type": "code",
   "execution_count": null,
   "metadata": {},
   "outputs": [],
   "source": [
    "sorted(statistic_dict.items(), key = lambda kv:(kv[1][0], kv[0]), reverse=True)"
   ]
  },
  {
   "cell_type": "code",
   "execution_count": null,
   "metadata": {},
   "outputs": [],
   "source": [
    "sorted(statistic_dict.items(), key = lambda kv:(kv[1][1], kv[0]), reverse=True)"
   ]
  },
  {
   "cell_type": "code",
   "execution_count": null,
   "metadata": {},
   "outputs": [],
   "source": [
    "X = []\n",
    "Y = []\n",
    "n = 0\n",
    "for i in np.unique(businesses):\n",
    "    if type(list(labels[labels[\"business_id\"]==i][\"labels\"])[0])!=float:\n",
    "        Y.append(list(map(lambda x:int(x), list(labels[labels[\"business_id\"]==i][\"labels\"])[0].split())))\n",
    "        X.append(np.sum(lbs[np.where(businesses==i)], axis=0))\n",
    "        clear_output()\n",
    "        n+=1\n",
    "        print(n)"
   ]
  }
 ],
 "metadata": {
  "kernelspec": {
   "display_name": "Python 3",
   "language": "python",
   "name": "python3"
  },
  "language_info": {
   "codemirror_mode": {
    "name": "ipython",
    "version": 3
   },
   "file_extension": ".py",
   "mimetype": "text/x-python",
   "name": "python",
   "nbconvert_exporter": "python",
   "pygments_lexer": "ipython3",
   "version": "3.6.8"
  }
 },
 "nbformat": 4,
 "nbformat_minor": 2
}
