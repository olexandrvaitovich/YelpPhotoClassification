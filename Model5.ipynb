{
 "cells": [
  {
   "cell_type": "code",
   "execution_count": null,
   "metadata": {},
   "outputs": [],
   "source": [
    "from keras.utils import multi_gpu_model\n",
    "import json\n",
    "import pandas as pd\n",
    "import numpy as np\n",
    "from tqdm import tqdm\n",
    "from keras.applications.resnet50 import ResNet50\n",
    "from keras.models import Model\n",
    "from keras.preprocessing import image\n",
    "from time import time\n",
    "from keras.layers import Dense\n",
    "import keras\n",
    "from helper_functions import get_filenames\n",
    "from keras.utils import multi_gpu_model"
   ]
  },
  {
   "cell_type": "code",
   "execution_count": null,
   "metadata": {},
   "outputs": [],
   "source": [
    "filenames = get_filenames(\"D:/dataset3/photos\")"
   ]
  },
  {
   "cell_type": "code",
   "execution_count": null,
   "metadata": {},
   "outputs": [],
   "source": [
    "data = []\n",
    "f = open('dataset3/photo.json', 'r')\n",
    "for i in tqdm(range(200000)):\n",
    "    line = json.loads(f.readline())\n",
    "    data.append((line[\"photo_id\"], line[\"business_id\"], line[\"label\"]))\n",
    "f.close()"
   ]
  },
  {
   "cell_type": "code",
   "execution_count": null,
   "metadata": {},
   "outputs": [],
   "source": [
    "ResNet_model = ResNet50(include_top=True, weights='imagenet')"
   ]
  },
  {
   "cell_type": "code",
   "execution_count": null,
   "metadata": {},
   "outputs": [],
   "source": [
    "ResNet_model = ResNet50(include_top=True, weights='imagenet')\n",
    "output = Dense(5, activation=\"softmax\")(ResNet_model.output)\n",
    "model = Model(inputs = ResNet_model.input, outputs=output)\n",
    "for layer in model.layers:\n",
    "    layer.trainable = False\n",
    "model.layers[-1].trainable = True\n",
    "model.compile(loss=\"categorical_crossentropy\", optimizer=\"adam\", metrics=[\"accuracy\"])"
   ]
  },
  {
   "cell_type": "code",
   "execution_count": null,
   "metadata": {},
   "outputs": [],
   "source": [
    "lbs = {\"drink\":[1,0,0,0,0], \"food\":[0,1,0,0,0], \"menu\":[0,0,1,0,0], \"inside\":[0,0,0,1,0], \"outside\":[0,0,0,0,1]}"
   ]
  },
  {
   "cell_type": "code",
   "execution_count": null,
   "metadata": {},
   "outputs": [],
   "source": [
    "data_dict = dict()\n",
    "for i in data:\n",
    "    data_dict[i[0]] = (i[1], i[2])"
   ]
  },
  {
   "cell_type": "code",
   "execution_count": null,
   "metadata": {},
   "outputs": [],
   "source": [
    "def batch_generator(filenames):\n",
    "    while True:\n",
    "        \n",
    "        X = []\n",
    "        Y = []\n",
    "        \n",
    "        for f in filenames:\n",
    "                        \n",
    "            img_id = f[-f[::-1].index(\"\\\\\"):-f[::-1].index(\".\")-1]\n",
    "            \n",
    "            Y.append(lbs[data_dict[img_id][1]])\n",
    "            \n",
    "            img_path = f\n",
    "            img = image.img_to_array(image.load_img(img_path, target_size=(224, 224)))\n",
    "            \n",
    "            X.append(img)\n",
    "            \n",
    "            if len(X)==40:\n",
    "                \n",
    "                yield np.array(X), np.array(Y)\n",
    "                \n",
    "                X = []\n",
    "                Y = []\n",
    "        \n",
    "        yield np.array(X), np.array(Y)"
   ]
  },
  {
   "cell_type": "code",
   "execution_count": null,
   "metadata": {},
   "outputs": [],
   "source": [
    "train_filenames = filenames[:180000]\n",
    "test_filenames = filenames[180000:199000]\n",
    "validation_filenames = filenames[199000:]\n",
    "train_gen = batch_generator(filenames)\n",
    "test_gen = batch_generator(test_filenames)\n",
    "validation_gen = batch_generator(validation_filenames)"
   ]
  },
  {
   "cell_type": "code",
   "execution_count": null,
   "metadata": {},
   "outputs": [],
   "source": [
    "for i in tqdm(range(15000)):\n",
    "    batch = next(train_gen)\n",
    "    model.train_on_batch(batch[0], batch[1])\n",
    "    if (i+1)%1000==0:\n",
    "        for i in range(25):\n",
    "            batch = next(validation_gen)\n",
    "            print(model.evaluate(batch[0], batch[1]))"
   ]
  },
  {
   "cell_type": "code",
   "execution_count": null,
   "metadata": {},
   "outputs": [],
   "source": [
    "model.save_weights(\"weights5.h5\")"
   ]
  }
 ],
 "metadata": {
  "kernelspec": {
   "display_name": "Python 3",
   "language": "python",
   "name": "python3"
  },
  "language_info": {
   "codemirror_mode": {
    "name": "ipython",
    "version": 3
   },
   "file_extension": ".py",
   "mimetype": "text/x-python",
   "name": "python",
   "nbconvert_exporter": "python",
   "pygments_lexer": "ipython3",
   "version": "3.6.8"
  }
 },
 "nbformat": 4,
 "nbformat_minor": 2
}
